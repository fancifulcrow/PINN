{
  "cells": [
    {
      "cell_type": "markdown",
      "metadata": {},
      "source": [
        "# PINN for Navier-Stokes Equations"
      ]
    },
    {
      "cell_type": "code",
      "execution_count": 1,
      "metadata": {},
      "outputs": [],
      "source": [
        "import torch\n",
        "import torch.nn as nn\n",
        "import torch.optim as optim\n",
        "import numpy as np\n",
        "import matplotlib.pyplot as plt"
      ]
    },
    {
      "cell_type": "code",
      "execution_count": 2,
      "metadata": {},
      "outputs": [],
      "source": [
        "device = 'cuda' if torch.cuda.is_available() else 'cpu'"
      ]
    },
    {
      "cell_type": "markdown",
      "metadata": {},
      "source": [
        "## Brief Overview of Navier-Stokes Equations"
      ]
    },
    {
      "cell_type": "markdown",
      "metadata": {},
      "source": [
        "The Navier-Stokes equations are a set of partial differential equations that describe the motion of fluid substances. These equations mathematically express momentum balance for Newtonian fluids and make use of conservation of mass.\n",
        "\n",
        "Consider an incompressible Newtonian fluid. The two-dimensional Navier-Stokes equations governing the motion of such a fluid are given by:\n",
        "\n",
        "$$\n",
        "\\frac{\\partial u}{\\partial t} + \\lambda_1 \\left( u \\frac{\\partial u}{\\partial x} + v \\frac{\\partial u}{\\partial y} \\right) = -\\frac{\\partial p}{\\partial x} + \\lambda_2 \\left( \\frac{\\partial^2 u}{\\partial x^2} + \\frac{\\partial^2 u}{\\partial y^2} \\right)\n",
        "$$\n",
        "\n",
        "$$\n",
        "\\frac{\\partial v}{\\partial t} + \\lambda_1 \\left( u \\frac{\\partial v}{\\partial x} + v \\frac{\\partial v}{\\partial y} \\right) = -\\frac{\\partial p}{\\partial y} + \\lambda_2 \\left( \\frac{\\partial^2 v}{\\partial x^2} + \\frac{\\partial^2 v}{\\partial y^2} \\right)\n",
        "$$\n",
        "\n",
        "where:\n",
        "\n",
        "- $ u(x, y, t) $ and $ v(x, y, t) $ are the *velocity components* of the fluid in the $ x $- and $ y $-directions, respectively, at a given time $ t $.\n",
        "\n",
        "- $ p(x, y, t) $ is the *pressure* field of the fluid at a given point in space and time.\n",
        "\n",
        "- $ \\frac{\\partial u}{\\partial t} $ and $ \\frac{\\partial v}{\\partial t} $ represent the *time derivatives of the velocity components*, $ u $ and $ v $, describing how the velocity evolves over time.\n",
        "\n",
        "- $ \\frac{\\partial u}{\\partial x} $, $ \\frac{\\partial u}{\\partial y} $, $ \\frac{\\partial v}{\\partial x} $, and $ \\frac{\\partial v}{\\partial y} $ are the *spatial derivatives of the velocity components*, representing how the velocity changes in space.\n",
        "\n",
        "- $ \\frac{\\partial p}{\\partial x} $ and $ \\frac{\\partial p}{\\partial y} $ are the *pressure gradients* in the $ x $- and $ y $-directions, respectively, driving fluid motion.\n",
        "\n",
        "- $ \\frac{\\partial^2 u}{\\partial x^2} $, $ \\frac{\\partial^2 u}{\\partial y^2} $, $ \\frac{\\partial^2 v}{\\partial x^2} $, and $ \\frac{\\partial^2 v}{\\partial y^2} $ are the *second-order spatial derivatives of the velocity components*, representing the diffusion (or dissipation) of momentum due to viscosity.\n",
        "\n",
        "- $ \\lambda_1 $ and $ \\lambda_2 $ are constants.\n",
        "\n",
        "Since the fluid is assumed to be incompressible, the continuity equation must be satisfied:\n",
        "\n",
        "$$\n",
        "\\frac{\\partial u}{\\partial x} + \\frac{\\partial v}{\\partial y} = 0\n",
        "$$"
      ]
    },
    {
      "cell_type": "markdown",
      "metadata": {},
      "source": [
        "## Defining the Model Architecture"
      ]
    },
    {
      "cell_type": "markdown",
      "metadata": {},
      "source": [
        "Below, we define the architecture of a model."
      ]
    },
    {
      "cell_type": "code",
      "execution_count": 3,
      "metadata": {},
      "outputs": [],
      "source": [
        "class Model(nn.Module):\n",
        "    def __init__(self, hidden_channels:int) -> None:\n",
        "        super().__init__()\n",
        "\n",
        "        self.network = nn.Sequential(\n",
        "            nn.Linear(3, hidden_channels),\n",
        "            nn.Tanh(),\n",
        "            nn.Linear(hidden_channels, hidden_channels),\n",
        "            nn.Tanh(),\n",
        "            nn.Linear(hidden_channels, hidden_channels),\n",
        "            nn.Tanh(),\n",
        "            nn.Linear(hidden_channels, hidden_channels),\n",
        "            nn.Tanh(),\n",
        "            nn.Linear(hidden_channels, hidden_channels),\n",
        "            nn.Tanh(),\n",
        "            nn.Linear(hidden_channels, hidden_channels),\n",
        "            nn.Tanh(),\n",
        "            nn.Linear(hidden_channels, 3)\n",
        "        )\n",
        "\n",
        "    \n",
        "    def forward(self, x:torch.Tensor, y:torch.Tensor, t:torch.Tensor) -> torch.Tensor:\n",
        "        inputs = torch.cat([x, y, t], dim=-1)\n",
        "        output = self.network(inputs)\n",
        "        u, v, p = output[:, 0:1], output[:, 1:2], output[:, 2:3]\n",
        "        return u, v, p"
      ]
    },
    {
      "cell_type": "markdown",
      "metadata": {},
      "source": [
        "## Infering a System's Parameters"
      ]
    },
    {
      "cell_type": "markdown",
      "metadata": {},
      "source": [
        "From the Navier Stokes Equations, we can derive two functions, $f$ and $g$ such that:\n",
        "\n",
        "$$\n",
        "f(x, y, t) = \\frac{\\partial u}{\\partial t} + \\lambda_1 \\left( u \\frac{\\partial u}{\\partial x} + v \\frac{\\partial u}{\\partial y} \\right) + \\frac{\\partial p}{\\partial x} - \\lambda_2 \\left( \\frac{\\partial^2 u}{\\partial x^2} + \\frac{\\partial^2 u}{\\partial y^2} \\right)\n",
        "$$\n",
        "\n",
        "$$\n",
        "g(x, y, t) = \\frac{\\partial v}{\\partial t} + \\lambda_1 \\left( u \\frac{\\partial v}{\\partial x} + v \\frac{\\partial v}{\\partial y} \\right) + \\frac{\\partial p}{\\partial y} - \\lambda_2 \\left( \\frac{\\partial^2 v}{\\partial x^2} + \\frac{\\partial^2 v}{\\partial y^2} \\right)\n",
        "$$\n",
        "\n",
        "For this task, we want to determine the values of $\\lambda_1$ and $\\lambda_2$. The loss function for this can be represented by the following:\n",
        "\n",
        "$$\n",
        "\\mathcal{L}_{total} = \\mathcal{L}_{physics} + \\mathcal{L}_{data}\n",
        "$$\n",
        "\n",
        "where:\n",
        "- **Physics Loss**\n",
        "$$\n",
        "\\mathcal{L}_{physics} = \\frac{1}{N} \\sum_{i=1}^N \\left(f(x_i, y_i, t_i)^2 + g(x_i, y_i, t_i)^2 \\right)\n",
        "$$\n",
        "\n",
        "- **Data Loss**\n",
        "$$\n",
        "\\mathcal{L}_{data} = \\frac{1}{N} \\sum^{N}_{i} \\left((u(t_i, x_i, y_i) - u_i)^2 + (v(t_i, x_i, y_i) - v_i)^2 \\right)\n",
        "$$\n",
        "\n",
        "We will be importing the dataset used in the [original paper](https://www.sciencedirect.com/science/article/abs/pii/S0021999118307125). In that dataset, the known values of $\\lambda_1$ and $\\lambda_2$ are 1 and 0.01 respectively. Similar to the paper, we will only be training on 1% of the original data."
      ]
    },
    {
      "cell_type": "code",
      "execution_count": 4,
      "metadata": {},
      "outputs": [],
      "source": [
        "import scipy\n",
        "\n",
        "data = scipy.io.loadmat('data/cylinder_nektar_wake.mat')\n",
        "\n",
        "U_star = data['U_star']\n",
        "P_star = data['p_star']\n",
        "t_star = data['t']\n",
        "X_star = data['X_star']\n",
        "\n",
        "N = X_star.shape[0]\n",
        "T = t_star.shape[0]\n",
        "\n",
        "x = np.tile(X_star[:,0:1], (1, T)).flatten()[:,None]\n",
        "y = np.tile(X_star[:,1:2], (1, T)).flatten()[:,None]\n",
        "t = np.tile(t_star, (1, N)).T.flatten()[:,None]\n",
        "u = U_star[:,0,:].flatten()[:,None]\n",
        "v = U_star[:,1,:].flatten()[:,None]\n",
        "p = P_star.flatten()[:,None]"
      ]
    },
    {
      "cell_type": "code",
      "execution_count": 5,
      "metadata": {},
      "outputs": [],
      "source": [
        "idx = np.random.choice(N*T, 5000, replace=False)\n",
        "\n",
        "x = torch.tensor(x[idx,:], dtype=torch.float32).requires_grad_(True).to(device)\n",
        "y = torch.tensor(y[idx,:], dtype=torch.float32).requires_grad_(True).to(device)\n",
        "t = torch.tensor(t[idx,:], dtype=torch.float32).requires_grad_(True).to(device)\n",
        "u = torch.tensor(u[idx,:], dtype=torch.float32).requires_grad_(True).to(device)\n",
        "v = torch.tensor(v[idx,:], dtype=torch.float32).requires_grad_(True).to(device)"
      ]
    },
    {
      "cell_type": "code",
      "execution_count": 6,
      "metadata": {},
      "outputs": [],
      "source": [
        "pinn = Model(32).to(device)\n",
        "\n",
        "lambda1 = torch.nn.Parameter(torch.zeros(1, requires_grad=True, device=device))\n",
        "lambda2 = torch.nn.Parameter(torch.zeros(1, requires_grad=True, device=device))\n",
        "\n",
        "optimizer = optim.Adam(list(pinn.parameters()) + [lambda1, lambda2], lr=1e-3)"
      ]
    },
    {
      "cell_type": "code",
      "execution_count": 7,
      "metadata": {},
      "outputs": [
        {
          "name": "stdout",
          "output_type": "stream",
          "text": [
            "Training Step 1000, Loss: 0.07003951072692871\n",
            "Training Step 2000, Loss: 0.05985632166266441\n",
            "Training Step 3000, Loss: 0.046250030398368835\n",
            "Training Step 4000, Loss: 0.03701475262641907\n",
            "Training Step 5000, Loss: 0.02915847674012184\n",
            "Training Step 6000, Loss: 0.02458089217543602\n",
            "Training Step 7000, Loss: 0.015180250629782677\n",
            "Training Step 8000, Loss: 0.010362713597714901\n",
            "Training Step 9000, Loss: 0.008473003283143044\n",
            "Training Step 10000, Loss: 0.0068975710310041904\n",
            "Training Step 11000, Loss: 0.006975981406867504\n",
            "Training Step 12000, Loss: 0.0045478930696845055\n",
            "Training Step 13000, Loss: 0.004242855589836836\n",
            "Training Step 14000, Loss: 0.0032160114496946335\n",
            "Training Step 15000, Loss: 0.002775282599031925\n",
            "Training Step 16000, Loss: 0.002405458828434348\n",
            "Training Step 17000, Loss: 0.0024254571180790663\n",
            "Training Step 18000, Loss: 0.0024007228203117847\n",
            "Training Step 19000, Loss: 0.0018108610529452562\n",
            "Training Step 20000, Loss: 0.0016145874978974462\n"
          ]
        }
      ],
      "source": [
        "num_training_steps = 20000\n",
        "\n",
        "lambda1_values = []\n",
        "lambda2_values = []\n",
        "\n",
        "for training_step in range(num_training_steps):\n",
        "    optimizer.zero_grad()\n",
        "\n",
        "    u_pred, v_pred, p_pred = pinn(x, y, t)\n",
        "\n",
        "    u_x = torch.autograd.grad(u_pred, x, torch.ones_like(u_pred), create_graph=True)[0]\n",
        "    u_y = torch.autograd.grad(u_pred, y, torch.ones_like(u_pred), create_graph=True)[0]\n",
        "    u_t = torch.autograd.grad(u_pred, t, torch.ones_like(u_pred), create_graph=True)[0]\n",
        "\n",
        "    v_x = torch.autograd.grad(v_pred, x, torch.ones_like(v_pred), create_graph=True)[0]\n",
        "    v_y = torch.autograd.grad(v_pred, y, torch.ones_like(v_pred), create_graph=True)[0]\n",
        "    v_t = torch.autograd.grad(v_pred, t, torch.ones_like(v_pred), create_graph=True)[0]\n",
        "\n",
        "    p_x = torch.autograd.grad(p_pred, x, torch.ones_like(p_pred), create_graph=True)[0]\n",
        "    p_y = torch.autograd.grad(p_pred, y, torch.ones_like(p_pred), create_graph=True)[0]\n",
        "\n",
        "    u_xx = torch.autograd.grad(u_x, x, torch.ones_like(u_x), create_graph=True)[0]\n",
        "    u_yy = torch.autograd.grad(u_y, y, torch.ones_like(u_y), create_graph=True)[0]\n",
        "\n",
        "    v_xx = torch.autograd.grad(v_x, x, torch.ones_like(v_x), create_graph=True)[0]\n",
        "    v_yy = torch.autograd.grad(v_y, y, torch.ones_like(v_y), create_graph=True)[0]\n",
        "\n",
        "    # Data Loss\n",
        "    mse_data = torch.mean((u - u_pred)**2 + (v - v_pred)**2)\n",
        "\n",
        "    # Physics Loss\n",
        "    f = u_t + lambda1 * (u_pred * u_x + v_pred * u_y) + p_x - lambda2 * (u_xx + u_yy)\n",
        "    g = v_t + lambda1 * (u_pred * v_x + v_pred * v_y) + p_y - lambda2 * (v_xx + v_yy)\n",
        "\n",
        "    mse_physics = torch.mean(f**2 + g**2)\n",
        "    \n",
        "    # Total Loss\n",
        "    loss = mse_data + mse_physics\n",
        "\n",
        "    loss.backward()\n",
        "    optimizer.step()\n",
        "\n",
        "    lambda1_values.append(lambda1.item())\n",
        "    lambda2_values.append(lambda2.item())\n",
        "\n",
        "    if (training_step + 1) % 1000 == 0:\n",
        "        print(f'Training Step {training_step + 1}, Loss: {loss.item()}')"
      ]
    },
    {
      "cell_type": "markdown",
      "metadata": {},
      "source": [
        "Let us plot the progression of the values of $\\lambda_1$ and $\\lambda_2$ during training."
      ]
    },
    {
      "cell_type": "code",
      "execution_count": 8,
      "metadata": {},
      "outputs": [
        {
          "data": {
            "image/png": "[encoded data removed]",
            "text/plain": [
              "<Figure size 1200x400 with 2 Axes>"
            ]
          },
          "metadata": {},
          "output_type": "display_data"
        }
      ],
      "source": [
        "fig, axes = plt.subplots(1, 2, figsize=(12, 4))\n",
        "\n",
        "# lambda1\n",
        "axes[0].plot(lambda1_values, label=\"Predicted value\")\n",
        "axes[0].hlines(1, 0, len(lambda1_values), label=\"True value\", colors=\"red\")\n",
        "axes[0].set_xlabel(\"Training Step\")\n",
        "axes[0].set_ylabel(\"Value\")\n",
        "axes[0].set_title(\"lambda1\")\n",
        "axes[0].legend()\n",
        "axes[0].grid(True)\n",
        "\n",
        "# Lambda2\n",
        "axes[1].plot(lambda2_values, label=\"Predicted value\")\n",
        "axes[1].hlines(0.01, 0, len(lambda2_values), label=\"True value\", colors=\"red\")\n",
        "axes[1].set_xlabel(\"Training Step\")\n",
        "axes[1].set_ylabel(\"Value\")\n",
        "axes[1].set_title(\"lambda2\")\n",
        "axes[1].legend()\n",
        "axes[1].grid(True)\n",
        "\n",
        "plt.show()"
      ]
    }
  ],
  "metadata": {
    "kernelspec": {
      "display_name": ".venv",
      "language": "python",
      "name": "python3"
    },
    "language_info": {
      "codemirror_mode": {
        "name": "ipython",
        "version": 3
      },
      "file_extension": ".py",
      "mimetype": "text/x-python",
      "name": "python",
      "nbconvert_exporter": "python",
      "pygments_lexer": "ipython3",
      "version": "3.11.9"
    }
  },
  "nbformat": 4,
  "nbformat_minor": 2
}
